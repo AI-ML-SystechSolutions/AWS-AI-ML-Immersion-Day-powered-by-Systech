{
 "cells": [
  {
   "cell_type": "markdown",
   "metadata": {},
   "source": [
    "# Import Packages"
   ]
  },
  {
   "cell_type": "code",
   "execution_count": 1,
   "metadata": {},
   "outputs": [],
   "source": [
    "import numpy as np                                # For matrix operations and numerical processing\n",
    "import pandas as pd                               # For munging tabular data\n",
    "import matplotlib.pyplot as plt                   # For charts and visualizations\n",
    "from IPython.display import Image                 # For displaying images in the notebook\n",
    "from IPython.display import display               # For displaying outputs in the notebook\n",
    "from time import gmtime, strftime                 # For labeling SageMaker models, endpoints, etc.\n",
    "import sys                                        # For writing outputs to notebook\n",
    "import math                                       # For ceiling function\n",
    "import json                                       # For parsing hosting outputs\n",
    "import os                                         # For manipulating filepath names\n",
    "import zipfile                                    # unzips the dataset\n",
    "from sagemaker import image_uris\n",
    "from sagemaker.inputs import TrainingInput\n",
    "from sagemaker.estimator import Estimator\n",
    "from sagemaker.serializers import CSVSerializer\n",
    "import psycopg2\n",
    "from sqlalchemy import create_engine\n",
    "import datetime\n",
    "from scipy import stats\n",
    "from patsy import dmatrices\n",
    "import statsmodels.api as sm\n",
    "import seaborn as sns\n",
    "import boto3\n",
    "import re\n",
    "from sagemaker import get_execution_role \n",
    "from time import gmtime, strftime\n",
    "import sys \n",
    "import sagemaker"
   ]
  },
  {
   "cell_type": "markdown",
   "metadata": {},
   "source": [
    "# Read data from S3"
   ]
  },
  {
   "cell_type": "code",
   "execution_count": 2,
   "metadata": {},
   "outputs": [],
   "source": [
    "\n",
    "sess = sagemaker.Session()\n",
    "\n",
    "bucket = 'aws-immersion-day--ml'# enter your s3 bucket where you will copy data and model artifacts\n",
    "prefix = 'PROPENSITY-DATA/01-EMAIL/xgboost/training-files'\n",
    "data_key = 'PROPENSITY-DATA/01-EMAIL/simulated_email_data_lab.csv'\n",
    "data_location = 's3://{}/{}'.format(bucket, data_key)\n",
    "role = get_execution_role()\n",
    "data_s3=pd.read_csv(data_location)"
   ]
  },
  {
   "cell_type": "code",
   "execution_count": 3,
   "metadata": {},
   "outputs": [],
   "source": [
    "df_welcome=data_s3.copy()"
   ]
  },
  {
   "cell_type": "markdown",
   "metadata": {},
   "source": [
    "# 1. Session 1--------------------------------------------------------------------------------"
   ]
  },
  {
   "cell_type": "markdown",
   "metadata": {},
   "source": [
    "# Data Preparation"
   ]
  },
  {
   "cell_type": "markdown",
   "metadata": {},
   "source": [
    "### <span style=\"color:blue\"> 1.a) Checking Data Types"
   ]
  },
  {
   "cell_type": "code",
   "execution_count": 4,
   "metadata": {},
   "outputs": [
    {
     "data": {
      "text/plain": [
       "user_id                    int64\n",
       "date                      object\n",
       "validity_type_bad          int64\n",
       "bounce_type_soft           int64\n",
       "bounce_type_hard           int64\n",
       "bounce_type_other          int64\n",
       "paycheck_amount_gross      int64\n",
       "type_of_income           float64\n",
       "account_number             int64\n",
       "type_of_loan             float64\n",
       "autopay_check              int64\n",
       "bankruptcy_check           int64\n",
       "deferral_check             int64\n",
       "customer_account_age       int64\n",
       "collateral_check           int64\n",
       "homeowner_check            int64\n",
       "target_variable            int64\n",
       "state                     object\n",
       "type_of_address           object\n",
       "branch_distance            int64\n",
       "user_age                  object\n",
       "credit_score               int64\n",
       "plans_count                int64\n",
       "retired_check              int64\n",
       "freq_payment               int64\n",
       "job_duration              object\n",
       "dtype: object"
      ]
     },
     "execution_count": 4,
     "metadata": {},
     "output_type": "execute_result"
    }
   ],
   "source": [
    "df_welcome.dtypes"
   ]
  },
  {
   "cell_type": "code",
   "execution_count": 5,
   "metadata": {},
   "outputs": [
    {
     "data": {
      "text/plain": [
       "Index(['date', 'state', 'type_of_address', 'user_age', 'job_duration'], dtype='object')"
      ]
     },
     "execution_count": 5,
     "metadata": {},
     "output_type": "execute_result"
    }
   ],
   "source": [
    "(df_welcome.select_dtypes(['object'])).columns"
   ]
  },
  {
   "cell_type": "markdown",
   "metadata": {},
   "source": [
    "#### <span style=\"color:maroon\"> Fix datatype of date column "
   ]
  },
  {
   "cell_type": "code",
   "execution_count": 6,
   "metadata": {},
   "outputs": [
    {
     "data": {
      "text/plain": [
       "0    12/24/2019\n",
       "1    11/30/2019\n",
       "2    11/22/2019\n",
       "3    11/14/2019\n",
       "4      11-04-19\n",
       "Name: date, dtype: object"
      ]
     },
     "execution_count": 6,
     "metadata": {},
     "output_type": "execute_result"
    }
   ],
   "source": [
    "df_welcome.date.head(5)"
   ]
  },
  {
   "cell_type": "code",
   "execution_count": 7,
   "metadata": {},
   "outputs": [
    {
     "data": {
      "text/plain": [
       "0   2019-12-24\n",
       "1   2019-11-30\n",
       "2   2019-11-22\n",
       "3   2019-11-14\n",
       "4   2019-11-04\n",
       "Name: date, dtype: datetime64[ns]"
      ]
     },
     "execution_count": 7,
     "metadata": {},
     "output_type": "execute_result"
    }
   ],
   "source": [
    "df_welcome.date=df_welcome.date.astype('datetime64[ns]')\n",
    "df_welcome.date.head(5)"
   ]
  },
  {
   "cell_type": "markdown",
   "metadata": {},
   "source": [
    "#### <span style=\"color:maroon\"> Fix use_age column "
   ]
  },
  {
   "cell_type": "code",
   "execution_count": 8,
   "metadata": {},
   "outputs": [
    {
     "data": {
      "text/plain": [
       "0    52 years\n",
       "1    24 years\n",
       "2    38 years\n",
       "3    38 years\n",
       "4    37 years\n",
       "Name: user_age, dtype: object"
      ]
     },
     "execution_count": 8,
     "metadata": {},
     "output_type": "execute_result"
    }
   ],
   "source": [
    "df_welcome.user_age.head(5)"
   ]
  },
  {
   "cell_type": "markdown",
   "metadata": {},
   "source": [
    "##### Years will have to be removed from the column to use it for modeling"
   ]
  },
  {
   "cell_type": "code",
   "execution_count": 9,
   "metadata": {},
   "outputs": [
    {
     "data": {
      "text/plain": [
       "0    52\n",
       "1    24\n",
       "2    38\n",
       "3    38\n",
       "4    37\n",
       "Name: user_age, dtype: int64"
      ]
     },
     "execution_count": 9,
     "metadata": {},
     "output_type": "execute_result"
    }
   ],
   "source": [
    "split_words = df_welcome[\"user_age\"].str.split(\" \", expand = True)\n",
    "df_welcome[\"user_age\"] = split_words[0]\n",
    "#df_welcome[\"user_age\"] = df_welcome[\"user_age\"].astype('float')\n",
    "df_welcome[\"user_age\"] = df_welcome[\"user_age\"].astype('int')\n",
    "df_welcome[\"user_age\"].head(5)"
   ]
  },
  {
   "cell_type": "markdown",
   "metadata": {},
   "source": [
    "#### <span style=\"color:maroon\"> Fix job_duration column "
   ]
  },
  {
   "cell_type": "code",
   "execution_count": 10,
   "metadata": {},
   "outputs": [
    {
     "data": {
      "text/plain": [
       "0    33 years\n",
       "1     3 years\n",
       "2    17 years\n",
       "3    15 years\n",
       "4    12 years\n",
       "Name: job_duration, dtype: object"
      ]
     },
     "execution_count": 10,
     "metadata": {},
     "output_type": "execute_result"
    }
   ],
   "source": [
    "df_welcome.job_duration.head(5)"
   ]
  },
  {
   "cell_type": "code",
   "execution_count": 11,
   "metadata": {},
   "outputs": [
    {
     "data": {
      "text/plain": [
       "0    33\n",
       "1     3\n",
       "2    17\n",
       "3    15\n",
       "4    12\n",
       "Name: job_duration, dtype: int64"
      ]
     },
     "execution_count": 11,
     "metadata": {},
     "output_type": "execute_result"
    }
   ],
   "source": [
    "split_words = df_welcome[\"job_duration\"].str.split(\" \", expand = True)\n",
    "df_welcome[\"job_duration\"] = split_words[0]\n",
    "df_welcome[\"job_duration\"] = df_welcome[\"job_duration\"].astype(int)\n",
    "df_welcome[\"job_duration\"].head(5)"
   ]
  },
  {
   "cell_type": "markdown",
   "metadata": {},
   "source": [
    "### <span style=\"color:blue\">1.b) Data Quality Check"
   ]
  },
  {
   "cell_type": "markdown",
   "metadata": {},
   "source": [
    "#### <span style=\"color:maroon\"> Missing value Identification "
   ]
  },
  {
   "cell_type": "code",
   "execution_count": 12,
   "metadata": {},
   "outputs": [],
   "source": [
    "df_welcome.replace(\"\",np.nan,inplace=True) "
   ]
  },
  {
   "cell_type": "code",
   "execution_count": 13,
   "metadata": {},
   "outputs": [
    {
     "data": {
      "text/html": [
       "<div>\n",
       "<style scoped>\n",
       "    .dataframe tbody tr th:only-of-type {\n",
       "        vertical-align: middle;\n",
       "    }\n",
       "\n",
       "    .dataframe tbody tr th {\n",
       "        vertical-align: top;\n",
       "    }\n",
       "\n",
       "    .dataframe thead th {\n",
       "        text-align: right;\n",
       "    }\n",
       "</style>\n",
       "<table border=\"1\" class=\"dataframe\">\n",
       "  <thead>\n",
       "    <tr style=\"text-align: right;\">\n",
       "      <th></th>\n",
       "      <th>column_name</th>\n",
       "      <th>percent_missing</th>\n",
       "    </tr>\n",
       "  </thead>\n",
       "  <tbody>\n",
       "    <tr>\n",
       "      <th>type_of_loan</th>\n",
       "      <td>type_of_loan</td>\n",
       "      <td>5.42</td>\n",
       "    </tr>\n",
       "    <tr>\n",
       "      <th>type_of_income</th>\n",
       "      <td>type_of_income</td>\n",
       "      <td>4.23</td>\n",
       "    </tr>\n",
       "    <tr>\n",
       "      <th>user_id</th>\n",
       "      <td>user_id</td>\n",
       "      <td>0.00</td>\n",
       "    </tr>\n",
       "    <tr>\n",
       "      <th>collateral_check</th>\n",
       "      <td>collateral_check</td>\n",
       "      <td>0.00</td>\n",
       "    </tr>\n",
       "    <tr>\n",
       "      <th>freq_payment</th>\n",
       "      <td>freq_payment</td>\n",
       "      <td>0.00</td>\n",
       "    </tr>\n",
       "  </tbody>\n",
       "</table>\n",
       "</div>"
      ],
      "text/plain": [
       "                       column_name  percent_missing\n",
       "type_of_loan          type_of_loan             5.42\n",
       "type_of_income      type_of_income             4.23\n",
       "user_id                    user_id             0.00\n",
       "collateral_check  collateral_check             0.00\n",
       "freq_payment          freq_payment             0.00"
      ]
     },
     "execution_count": 13,
     "metadata": {},
     "output_type": "execute_result"
    }
   ],
   "source": [
    "percent_missing = df_welcome.isnull().sum() * 100 / len(df_welcome)\n",
    "missing_value_df = pd.DataFrame({'column_name': df_welcome.columns, 'percent_missing': percent_missing})\n",
    "missing_value_df.sort_values('percent_missing', ascending=False,inplace=True)\n",
    "missing_value_df.head(5)"
   ]
  },
  {
   "cell_type": "markdown",
   "metadata": {},
   "source": [
    "#### <span style=\"color:maroon\"> Treating missing values"
   ]
  },
  {
   "cell_type": "code",
   "execution_count": 14,
   "metadata": {},
   "outputs": [],
   "source": [
    "#Type of loan\n",
    "df_welcome['type_of_loan']=df_welcome['type_of_loan'].fillna('not_avl')\n",
    "df_welcome['type_of_loan']=df_welcome['type_of_loan'].astype('category')"
   ]
  },
  {
   "cell_type": "code",
   "execution_count": 15,
   "metadata": {},
   "outputs": [],
   "source": [
    "#Type of Income\n",
    "df_welcome['type_of_income']=df_welcome['type_of_income'].fillna('not_avl')\n",
    "df_welcome['type_of_income']=df_welcome['type_of_income'].astype('category')"
   ]
  },
  {
   "cell_type": "markdown",
   "metadata": {},
   "source": [
    "# Exploratory Data Analysis\n"
   ]
  },
  {
   "cell_type": "markdown",
   "metadata": {},
   "source": [
    "### <span style=\"color:blue\"> 1.c) General analysis"
   ]
  },
  {
   "cell_type": "markdown",
   "metadata": {},
   "source": [
    "#### <span style=\"color:maroon\"> What is the time period of the data?"
   ]
  },
  {
   "cell_type": "code",
   "execution_count": 16,
   "metadata": {},
   "outputs": [
    {
     "data": {
      "text/plain": [
       "count                   10000\n",
       "unique                     72\n",
       "top       2019-10-27 00:00:00\n",
       "freq                      163\n",
       "first     2019-10-21 00:00:00\n",
       "last      2019-12-31 00:00:00\n",
       "Name: date, dtype: object"
      ]
     },
     "execution_count": 16,
     "metadata": {},
     "output_type": "execute_result"
    }
   ],
   "source": [
    "df_welcome.date.describe()"
   ]
  },
  {
   "cell_type": "markdown",
   "metadata": {},
   "source": [
    "#### <span style=\"color:maroon\"> Average number of communications per day?"
   ]
  },
  {
   "cell_type": "code",
   "execution_count": 17,
   "metadata": {},
   "outputs": [
    {
     "data": {
      "text/plain": [
       "138.88888888888889"
      ]
     },
     "execution_count": 17,
     "metadata": {},
     "output_type": "execute_result"
    }
   ],
   "source": [
    "df_welcome.date.count()/df_welcome.date.nunique()"
   ]
  },
  {
   "cell_type": "markdown",
   "metadata": {},
   "source": [
    "#### <span style=\"color:maroon\">  What is the distribution of the target variable?"
   ]
  },
  {
   "cell_type": "code",
   "execution_count": 18,
   "metadata": {},
   "outputs": [
    {
     "data": {
      "text/plain": [
       "Text(0.5, 1.0, 'target_variable-barplot')"
      ]
     },
     "execution_count": 18,
     "metadata": {},
     "output_type": "execute_result"
    },
    {
     "data": {
      "image/png": "[encoded data removed]",
      "text/plain": [
       "<Figure size 576x432 with 1 Axes>"
      ]
     },
     "metadata": {
      "needs_background": "light"
     },
     "output_type": "display_data"
    }
   ],
   "source": [
    "fig, ax = plt.subplots(figsize=(8, 6))\n",
    "df_welcome['target_variable'].value_counts().plot(kind='bar', ax=ax)\n",
    "ax.set_xlabel('target_variable')\n",
    "ax.set_ylabel('Count')\n",
    "ax.set_title('target_variable-barplot')"
   ]
  },
  {
   "cell_type": "markdown",
   "metadata": {},
   "source": [
    "##### We notice that the classes are highly imbalanced"
   ]
  },
  {
   "cell_type": "code",
   "execution_count": 19,
   "metadata": {},
   "outputs": [
    {
     "data": {
      "text/plain": [
       "0    0.7841\n",
       "1    0.2159\n",
       "Name: target_variable, dtype: float64"
      ]
     },
     "execution_count": 19,
     "metadata": {},
     "output_type": "execute_result"
    }
   ],
   "source": [
    "df_welcome['target_variable'].value_counts(normalize=True)"
   ]
  },
  {
   "cell_type": "markdown",
   "metadata": {},
   "source": [
    "##### Percentage of Positive result: 22 %\n",
    "##### This implies that class imbalance treatment would need to be done going forward"
   ]
  },
  {
   "cell_type": "markdown",
   "metadata": {},
   "source": [
    "### <span style=\"color:blue\"> 1.d)  Analysis of Independent Variables(Univariate analysis)"
   ]
  },
  {
   "cell_type": "markdown",
   "metadata": {},
   "source": [
    "* ### <span style=\"color:navy\">  Quantitative variables"
   ]
  },
  {
   "cell_type": "markdown",
   "metadata": {},
   "source": [
    "#### <span style=\"color:maroon\">Variable Name : paycheck_amount_gross"
   ]
  },
  {
   "cell_type": "code",
   "execution_count": 20,
   "metadata": {},
   "outputs": [
    {
     "data": {
      "text/plain": [
       "<matplotlib.axes._subplots.AxesSubplot at 0x7f0e4e0f9240>"
      ]
     },
     "execution_count": 20,
     "metadata": {},
     "output_type": "execute_result"
    },
    {
     "data": {
      "image/png": "[encoded data removed]",
      "text/plain": [
       "<Figure size 576x288 with 1 Axes>"
      ]
     },
     "metadata": {
      "needs_background": "light"
     },
     "output_type": "display_data"
    }
   ],
   "source": [
    "# paycheck_amount_gross\n",
    "fig, ax = plt.subplots(figsize=(8, 4))\n",
    "df_welcome.boxplot(column='paycheck_amount_gross')"
   ]
  },
  {
   "cell_type": "markdown",
   "metadata": {},
   "source": [
    "##### We notice that there are outliers in this column as per the boxplot, lets confirm it with IQR"
   ]
  },
  {
   "cell_type": "code",
   "execution_count": 21,
   "metadata": {},
   "outputs": [
    {
     "data": {
      "text/plain": [
       "7"
      ]
     },
     "execution_count": 21,
     "metadata": {},
     "output_type": "execute_result"
    }
   ],
   "source": [
    "values=sorted(df_welcome.paycheck_amount_gross)\n",
    "Q1,Q3 = np.percentile(values , [25,75])\n",
    "IQR = Q3 - Q1\n",
    "lower_range = Q1 - (1.5 * IQR)\n",
    "upper_range = Q3 + (1.5 * IQR)\n",
    "\n",
    "len(df_welcome[(df_welcome.paycheck_amount_gross < lower_range) | (df_welcome.paycheck_amount_gross > upper_range)])"
   ]
  },
  {
   "cell_type": "markdown",
   "metadata": {},
   "source": [
    "##### We confirm there are 7 outliers and will remove them"
   ]
  },
  {
   "cell_type": "markdown",
   "metadata": {},
   "source": [
    "#### <span style=\"color:maroon\">  paycheck_amount_gross - Outlier treatment"
   ]
  },
  {
   "cell_type": "code",
   "execution_count": 22,
   "metadata": {},
   "outputs": [],
   "source": [
    "df_welcome.drop(df_welcome[(df_welcome.paycheck_amount_gross < lower_range) | (df_welcome.paycheck_amount_gross > upper_range) ].index , inplace=True)\n"
   ]
  },
  {
   "cell_type": "markdown",
   "metadata": {},
   "source": [
    "##### We also notice that the gross payckeck amount is less than 0 at some places. Those need to be deleted as well."
   ]
  },
  {
   "cell_type": "code",
   "execution_count": 23,
   "metadata": {},
   "outputs": [],
   "source": [
    "df_welcome.drop(df_welcome[(df_welcome.paycheck_amount_gross < 0)  ].index , inplace=True)"
   ]
  },
  {
   "cell_type": "markdown",
   "metadata": {},
   "source": [
    "#### <span style=\"color:maroon\">Variable Name : customer_account_age"
   ]
  },
  {
   "cell_type": "code",
   "execution_count": 24,
   "metadata": {},
   "outputs": [
    {
     "data": {
      "text/plain": [
       "<matplotlib.axes._subplots.AxesSubplot at 0x7f0e4e151e80>"
      ]
     },
     "execution_count": 24,
     "metadata": {},
     "output_type": "execute_result"
    },
    {
     "data": {
      "image/png": "[encoded data removed]",
      "text/plain": [
       "<Figure size 576x288 with 1 Axes>"
      ]
     },
     "metadata": {
      "needs_background": "light"
     },
     "output_type": "display_data"
    }
   ],
   "source": [
    "fig, ax = plt.subplots(figsize=(8, 4))\n",
    "df_welcome.boxplot(column='customer_account_age')"
   ]
  },
  {
   "cell_type": "markdown",
   "metadata": {},
   "source": [
    "##### We notice that there are values below 0. Since this is definitely erroneous, we will go ahead and remove it."
   ]
  },
  {
   "cell_type": "code",
   "execution_count": 25,
   "metadata": {},
   "outputs": [],
   "source": [
    "df_welcome.drop(df_welcome[(df_welcome.customer_account_age < 0) ].index , inplace=True)"
   ]
  },
  {
   "cell_type": "markdown",
   "metadata": {},
   "source": [
    "#### <span style=\"color:maroon\">Variable Name : Credit Score"
   ]
  },
  {
   "cell_type": "code",
   "execution_count": 26,
   "metadata": {},
   "outputs": [
    {
     "data": {
      "text/plain": [
       "(array([1041., 2140., 1716., 2640., 2432.]),\n",
       " array([300, 400, 500, 600, 700, 850]),\n",
       " <a list of 5 Patch objects>)"
      ]
     },
     "execution_count": 26,
     "metadata": {},
     "output_type": "execute_result"
    },
    {
     "data": {
      "image/png": "[encoded data removed]",
      "text/plain": [
       "<Figure size 432x288 with 1 Axes>"
      ]
     },
     "metadata": {
      "needs_background": "light"
     },
     "output_type": "display_data"
    }
   ],
   "source": [
    "plt.hist(df_welcome.credit_score, bins = [300,400,500,600,700,850]) "
   ]
  },
  {
   "cell_type": "markdown",
   "metadata": {},
   "source": [
    "##### We notice that the credit scores are mostly on the higher end (600-700)"
   ]
  },
  {
   "cell_type": "markdown",
   "metadata": {},
   "source": [
    "* ### <span style=\"color:navy\">  Categorical variables"
   ]
  },
  {
   "cell_type": "markdown",
   "metadata": {},
   "source": [
    "#### <span style=\"color:maroon\">Variable Name : Banckruptcy check"
   ]
  },
  {
   "cell_type": "code",
   "execution_count": 27,
   "metadata": {},
   "outputs": [
    {
     "data": {
      "text/plain": [
       "Text(0.5, 1.0, 'bankruptcy_check-barplot')"
      ]
     },
     "execution_count": 27,
     "metadata": {},
     "output_type": "execute_result"
    },
    {
     "data": {
      "image/png": "[encoded data removed]",
      "text/plain": [
       "<Figure size 576x432 with 1 Axes>"
      ]
     },
     "metadata": {
      "needs_background": "light"
     },
     "output_type": "display_data"
    }
   ],
   "source": [
    "fig, ax = plt.subplots(figsize=(8, 6))\n",
    "df_welcome['bankruptcy_check'].value_counts().plot(kind='bar', ax=ax)\n",
    "ax.set_xlabel('bankruptcy_check')\n",
    "ax.set_ylabel('Count')\n",
    "ax.set_title('bankruptcy_check-barplot')"
   ]
  },
  {
   "cell_type": "code",
   "execution_count": 28,
   "metadata": {},
   "outputs": [
    {
     "data": {
      "text/plain": [
       "1.4344467850336042"
      ]
     },
     "execution_count": 28,
     "metadata": {},
     "output_type": "execute_result"
    }
   ],
   "source": [
    "len(df_welcome[df_welcome.bankruptcy_check==1])/len(df_welcome)*100 "
   ]
  },
  {
   "cell_type": "markdown",
   "metadata": {},
   "source": [
    "##### So we notice that approximately 1.5% of the potential leads had bankrupted before"
   ]
  },
  {
   "cell_type": "markdown",
   "metadata": {},
   "source": [
    "#### <span style=\"color:maroon\">Variable Name : state"
   ]
  },
  {
   "cell_type": "code",
   "execution_count": 29,
   "metadata": {},
   "outputs": [
    {
     "data": {
      "text/plain": [
       "Text(0.5, 1.0, 'state')"
      ]
     },
     "execution_count": 29,
     "metadata": {},
     "output_type": "execute_result"
    },
    {
     "data": {
      "image/png": "[encoded data removed]",
      "text/plain": [
       "<Figure size 576x432 with 1 Axes>"
      ]
     },
     "metadata": {
      "needs_background": "light"
     },
     "output_type": "display_data"
    }
   ],
   "source": [
    "fig, ax = plt.subplots(figsize=(8, 6))\n",
    "df_welcome['state'].value_counts().plot(kind='bar', ax=ax)\n",
    "ax.set_xlabel('state')\n",
    "ax.set_ylabel('Count')\n",
    "ax.set_title('state')"
   ]
  },
  {
   "cell_type": "markdown",
   "metadata": {},
   "source": [
    "###### We notice that Texas and Arizona have had the most number of outreaches"
   ]
  },
  {
   "cell_type": "markdown",
   "metadata": {},
   "source": [
    "### <span style=\"color:blue\"> 1.e)  Analysis of Independent Variables with respect to other varibales(Bi Variate analysis)"
   ]
  },
  {
   "cell_type": "markdown",
   "metadata": {},
   "source": [
    "#### <span style=\"color:maroon\"> Correlation Analysis "
   ]
  },
  {
   "cell_type": "code",
   "execution_count": 30,
   "metadata": {},
   "outputs": [
    {
     "data": {
      "text/plain": [
       "<matplotlib.axes._subplots.AxesSubplot at 0x7f0e4e211d30>"
      ]
     },
     "execution_count": 30,
     "metadata": {},
     "output_type": "execute_result"
    },
    {
     "data": {
      "image/png": "[encoded data removed]",
      "text/plain": [
       "<Figure size 432x288 with 2 Axes>"
      ]
     },
     "metadata": {
      "needs_background": "light"
     },
     "output_type": "display_data"
    }
   ],
   "source": [
    "#df_welcome['gross_monthly_income'] = df_welcome.paycheck_amount_gross * df_welcome.freq_payment\n",
    "corr=df_welcome.corr(method ='pearson')\n",
    "sns.heatmap(corr, xticklabels=corr.columns, yticklabels=corr.columns)"
   ]
  },
  {
   "cell_type": "markdown",
   "metadata": {},
   "source": [
    "##### Factors credit score, frequency of payment look promising. Let's look further into them with respect to the Target Variable"
   ]
  },
  {
   "cell_type": "markdown",
   "metadata": {},
   "source": [
    "#### <span style=\"color:maroon\">  Credit score vs Target Variable"
   ]
  },
  {
   "cell_type": "code",
   "execution_count": 31,
   "metadata": {},
   "outputs": [
    {
     "data": {
      "text/plain": [
       "<matplotlib.axes._subplots.AxesSubplot at 0x7f0e4e291320>"
      ]
     },
     "execution_count": 31,
     "metadata": {},
     "output_type": "execute_result"
    },
    {
     "data": {
      "image/png": "[encoded data removed]",
      "text/plain": [
       "<Figure size 576x288 with 1 Axes>"
      ]
     },
     "metadata": {
      "needs_background": "light"
     },
     "output_type": "display_data"
    }
   ],
   "source": [
    "fig, ax = plt.subplots(figsize=(8, 4))\n",
    "df_welcome.boxplot(column='credit_score', by= 'target_variable', ax=ax)"
   ]
  },
  {
   "cell_type": "markdown",
   "metadata": {},
   "source": [
    "##### Again, we notice clear distinction in distribution between the 2 responses. Credit score is on an higher end for positive response"
   ]
  },
  {
   "cell_type": "markdown",
   "metadata": {},
   "source": [
    "Now, let's analyse correlations between categorical variables and the target variable using cross-tabulation"
   ]
  },
  {
   "cell_type": "markdown",
   "metadata": {},
   "source": [
    "#### <span style=\"color:maroon\">  Freq_payment vs Target Variable"
   ]
  },
  {
   "cell_type": "code",
   "execution_count": 32,
   "metadata": {},
   "outputs": [
    {
     "data": {
      "text/html": [
       "<div>\n",
       "<style scoped>\n",
       "    .dataframe tbody tr th:only-of-type {\n",
       "        vertical-align: middle;\n",
       "    }\n",
       "\n",
       "    .dataframe tbody tr th {\n",
       "        vertical-align: top;\n",
       "    }\n",
       "\n",
       "    .dataframe thead th {\n",
       "        text-align: right;\n",
       "    }\n",
       "</style>\n",
       "<table border=\"1\" class=\"dataframe\">\n",
       "  <thead>\n",
       "    <tr style=\"text-align: right;\">\n",
       "      <th>target_variable</th>\n",
       "      <th>0</th>\n",
       "      <th>1</th>\n",
       "    </tr>\n",
       "    <tr>\n",
       "      <th>freq_payment</th>\n",
       "      <th></th>\n",
       "      <th></th>\n",
       "    </tr>\n",
       "  </thead>\n",
       "  <tbody>\n",
       "    <tr>\n",
       "      <th>4</th>\n",
       "      <td>0.172185</td>\n",
       "      <td>0.569432</td>\n",
       "    </tr>\n",
       "    <tr>\n",
       "      <th>2</th>\n",
       "      <td>0.319187</td>\n",
       "      <td>0.430568</td>\n",
       "    </tr>\n",
       "    <tr>\n",
       "      <th>1</th>\n",
       "      <td>0.249137</td>\n",
       "      <td>0.000000</td>\n",
       "    </tr>\n",
       "    <tr>\n",
       "      <th>3</th>\n",
       "      <td>0.259491</td>\n",
       "      <td>0.000000</td>\n",
       "    </tr>\n",
       "  </tbody>\n",
       "</table>\n",
       "</div>"
      ],
      "text/plain": [
       "target_variable         0         1\n",
       "freq_payment                       \n",
       "4                0.172185  0.569432\n",
       "2                0.319187  0.430568\n",
       "1                0.249137  0.000000\n",
       "3                0.259491  0.000000"
      ]
     },
     "execution_count": 32,
     "metadata": {},
     "output_type": "execute_result"
    }
   ],
   "source": [
    "output_by_payment_freq= pd.crosstab(df_welcome['freq_payment'],df_welcome['target_variable'],normalize='columns')\n",
    "output_by_payment_freq= output_by_payment_freq.sort_values(by=1, ascending=False)\n",
    "output_by_payment_freq"
   ]
  },
  {
   "cell_type": "markdown",
   "metadata": {},
   "source": [
    "So we notice that people with payment frequency =4 tend to respond positively than the ones with other."
   ]
  },
  {
   "cell_type": "markdown",
   "metadata": {},
   "source": [
    "#### <span style=\"color:maroon\"> State vs Target Variable"
   ]
  },
  {
   "cell_type": "code",
   "execution_count": 33,
   "metadata": {},
   "outputs": [
    {
     "data": {
      "text/html": [
       "<div>\n",
       "<style scoped>\n",
       "    .dataframe tbody tr th:only-of-type {\n",
       "        vertical-align: middle;\n",
       "    }\n",
       "\n",
       "    .dataframe tbody tr th {\n",
       "        vertical-align: top;\n",
       "    }\n",
       "\n",
       "    .dataframe thead th {\n",
       "        text-align: right;\n",
       "    }\n",
       "</style>\n",
       "<table border=\"1\" class=\"dataframe\">\n",
       "  <thead>\n",
       "    <tr style=\"text-align: right;\">\n",
       "      <th>target_variable</th>\n",
       "      <th>0</th>\n",
       "      <th>1</th>\n",
       "    </tr>\n",
       "    <tr>\n",
       "      <th>state</th>\n",
       "      <th></th>\n",
       "      <th></th>\n",
       "    </tr>\n",
       "  </thead>\n",
       "  <tbody>\n",
       "    <tr>\n",
       "      <th>CA</th>\n",
       "      <td>0.019430</td>\n",
       "      <td>0.556850</td>\n",
       "    </tr>\n",
       "    <tr>\n",
       "      <th>NJ</th>\n",
       "      <td>0.039755</td>\n",
       "      <td>0.399814</td>\n",
       "    </tr>\n",
       "    <tr>\n",
       "      <th>AZ</th>\n",
       "      <td>0.416592</td>\n",
       "      <td>0.021901</td>\n",
       "    </tr>\n",
       "    <tr>\n",
       "      <th>TX</th>\n",
       "      <td>0.448038</td>\n",
       "      <td>0.021435</td>\n",
       "    </tr>\n",
       "    <tr>\n",
       "      <th>FL</th>\n",
       "      <td>0.019302</td>\n",
       "      <td>0.000000</td>\n",
       "    </tr>\n",
       "    <tr>\n",
       "      <th>GA</th>\n",
       "      <td>0.020580</td>\n",
       "      <td>0.000000</td>\n",
       "    </tr>\n",
       "    <tr>\n",
       "      <th>IL</th>\n",
       "      <td>0.017896</td>\n",
       "      <td>0.000000</td>\n",
       "    </tr>\n",
       "    <tr>\n",
       "      <th>IN</th>\n",
       "      <td>0.018407</td>\n",
       "      <td>0.000000</td>\n",
       "    </tr>\n",
       "  </tbody>\n",
       "</table>\n",
       "</div>"
      ],
      "text/plain": [
       "target_variable         0         1\n",
       "state                              \n",
       "CA               0.019430  0.556850\n",
       "NJ               0.039755  0.399814\n",
       "AZ               0.416592  0.021901\n",
       "TX               0.448038  0.021435\n",
       "FL               0.019302  0.000000\n",
       "GA               0.020580  0.000000\n",
       "IL               0.017896  0.000000\n",
       "IN               0.018407  0.000000"
      ]
     },
     "execution_count": 33,
     "metadata": {},
     "output_type": "execute_result"
    }
   ],
   "source": [
    "output_by_state= pd.crosstab(df_welcome['state'], df_welcome['target_variable'], normalize='columns')\n",
    "output_by_state= output_by_state.sort_values(by=1, ascending=False)\n",
    "output_by_state"
   ]
  },
  {
   "cell_type": "markdown",
   "metadata": {},
   "source": [
    "We see here that California and New Jersey have performed tremendously better than the other states."
   ]
  },
  {
   "cell_type": "markdown",
   "metadata": {},
   "source": [
    "#### <span style=\"color:maroon\"> type_of_address vs Target Variable"
   ]
  },
  {
   "cell_type": "code",
   "execution_count": 34,
   "metadata": {},
   "outputs": [
    {
     "data": {
      "text/html": [
       "<div>\n",
       "<style scoped>\n",
       "    .dataframe tbody tr th:only-of-type {\n",
       "        vertical-align: middle;\n",
       "    }\n",
       "\n",
       "    .dataframe tbody tr th {\n",
       "        vertical-align: top;\n",
       "    }\n",
       "\n",
       "    .dataframe thead th {\n",
       "        text-align: right;\n",
       "    }\n",
       "</style>\n",
       "<table border=\"1\" class=\"dataframe\">\n",
       "  <thead>\n",
       "    <tr style=\"text-align: right;\">\n",
       "      <th>target_variable</th>\n",
       "      <th>0</th>\n",
       "      <th>1</th>\n",
       "    </tr>\n",
       "    <tr>\n",
       "      <th>type_of_address</th>\n",
       "      <th></th>\n",
       "      <th></th>\n",
       "    </tr>\n",
       "  </thead>\n",
       "  <tbody>\n",
       "    <tr>\n",
       "      <th>M</th>\n",
       "      <td>0.494439</td>\n",
       "      <td>0.018173</td>\n",
       "    </tr>\n",
       "    <tr>\n",
       "      <th>P</th>\n",
       "      <td>0.505561</td>\n",
       "      <td>0.981827</td>\n",
       "    </tr>\n",
       "  </tbody>\n",
       "</table>\n",
       "</div>"
      ],
      "text/plain": [
       "target_variable         0         1\n",
       "type_of_address                    \n",
       "M                0.494439  0.018173\n",
       "P                0.505561  0.981827"
      ]
     },
     "execution_count": 34,
     "metadata": {},
     "output_type": "execute_result"
    }
   ],
   "source": [
    "output_by_address_type= pd.crosstab(df_welcome['type_of_address'], df_welcome['target_variable'], normalize='columns')\n",
    "output_by_address_type"
   ]
  },
  {
   "cell_type": "markdown",
   "metadata": {},
   "source": [
    "##### We Notice that people providing their primary address types tend to respond positively to the solicitation campaigns."
   ]
  },
  {
   "cell_type": "markdown",
   "metadata": {},
   "source": [
    "#### <span style=\"color:maroon\">  homeowner_check vs Target Variable"
   ]
  },
  {
   "cell_type": "code",
   "execution_count": 35,
   "metadata": {},
   "outputs": [
    {
     "data": {
      "text/html": [
       "<div>\n",
       "<style scoped>\n",
       "    .dataframe tbody tr th:only-of-type {\n",
       "        vertical-align: middle;\n",
       "    }\n",
       "\n",
       "    .dataframe tbody tr th {\n",
       "        vertical-align: top;\n",
       "    }\n",
       "\n",
       "    .dataframe thead th {\n",
       "        text-align: right;\n",
       "    }\n",
       "</style>\n",
       "<table border=\"1\" class=\"dataframe\">\n",
       "  <thead>\n",
       "    <tr style=\"text-align: right;\">\n",
       "      <th>homeowner_check</th>\n",
       "      <th>1</th>\n",
       "      <th>0</th>\n",
       "    </tr>\n",
       "    <tr>\n",
       "      <th>target_variable</th>\n",
       "      <th></th>\n",
       "      <th></th>\n",
       "    </tr>\n",
       "  </thead>\n",
       "  <tbody>\n",
       "    <tr>\n",
       "      <th>0</th>\n",
       "      <td>0.782258</td>\n",
       "      <td>0.785786</td>\n",
       "    </tr>\n",
       "    <tr>\n",
       "      <th>1</th>\n",
       "      <td>0.217742</td>\n",
       "      <td>0.214214</td>\n",
       "    </tr>\n",
       "  </tbody>\n",
       "</table>\n",
       "</div>"
      ],
      "text/plain": [
       "homeowner_check         1         0\n",
       "target_variable                    \n",
       "0                0.782258  0.785786\n",
       "1                0.217742  0.214214"
      ]
     },
     "execution_count": 35,
     "metadata": {},
     "output_type": "execute_result"
    }
   ],
   "source": [
    "output_by_homeowner_check= pd.crosstab(df_welcome['target_variable'], df_welcome['homeowner_check'], normalize='columns')\n",
    "output_by_homeowner_check= output_by_homeowner_check.sort_values(by=1, axis=1, ascending=False)\n",
    "output_by_homeowner_check"
   ]
  },
  {
   "cell_type": "markdown",
   "metadata": {},
   "source": [
    "##### Here we see that there the homeowner flag does not make any difference to the likelihood of a positive result. <br>Thus homeowner_check may not be a strong influencer for the model. "
   ]
  },
  {
   "cell_type": "markdown",
   "metadata": {},
   "source": [
    "# 2. Session 2 -Feature Engineering--------------------------------------------------------------"
   ]
  },
  {
   "cell_type": "code",
   "execution_count": 36,
   "metadata": {},
   "outputs": [],
   "source": [
    "df_welcome=df_welcome.sort_values(by='date',ascending=False)\n",
    "df_welcome=df_welcome.reset_index()\n",
    "del df_welcome['index']"
   ]
  },
  {
   "cell_type": "markdown",
   "metadata": {},
   "source": [
    "#### <span style=\"color:maroon\">Create IS HOLIDAY feature"
   ]
  },
  {
   "cell_type": "code",
   "execution_count": 37,
   "metadata": {},
   "outputs": [
    {
     "name": "stdout",
     "output_type": "stream",
     "text": [
      "Requirement already satisfied: holidays in /home/ec2-user/anaconda3/envs/python3/lib/python3.6/site-packages (0.10.4)\n",
      "Requirement already satisfied: convertdate<=2.2.0 in /home/ec2-user/anaconda3/envs/python3/lib/python3.6/site-packages (from holidays) (2.2.0)\n",
      "Requirement already satisfied: six in /home/ec2-user/anaconda3/envs/python3/lib/python3.6/site-packages (from holidays) (1.14.0)\n",
      "Requirement already satisfied: korean-lunar-calendar in /home/ec2-user/anaconda3/envs/python3/lib/python3.6/site-packages (from holidays) (0.2.1)\n",
      "Requirement already satisfied: python-dateutil in /home/ec2-user/anaconda3/envs/python3/lib/python3.6/site-packages (from holidays) (2.8.1)\n",
      "Requirement already satisfied: pytz<2020,>=2014.10 in /home/ec2-user/anaconda3/envs/python3/lib/python3.6/site-packages (from convertdate<=2.2.0->holidays) (2019.3)\n",
      "Requirement already satisfied: pymeeus<=1,>=0.3.6 in /home/ec2-user/anaconda3/envs/python3/lib/python3.6/site-packages (from convertdate<=2.2.0->holidays) (0.3.7)\n",
      "\u001b[33mWARNING: You are using pip version 20.0.2; however, version 20.3.1 is available.\n",
      "You should consider upgrading via the '/home/ec2-user/anaconda3/envs/python3/bin/python -m pip install --upgrade pip' command.\u001b[0m\n"
     ]
    }
   ],
   "source": [
    "#Create IS HOLIDAY feature\n",
    "!pip install holidays\n",
    "\n",
    "import holidays\n",
    "import datetime\n",
    "import pandas as pd\n",
    "\n",
    "us_holidays=[]\n",
    "us_dates=[]\n",
    "\n",
    "for date in holidays.UnitedStates(years=[2019]).items():\n",
    "    us_dates.append(str(date[0]))\n",
    "    us_holidays.append(str(date[1]))\n",
    "\n",
    "cal=pd.DataFrame()\n",
    "cal['date']=us_dates\n",
    "cal['holidays']=us_holidays\n",
    "\n",
    "cal['date']=pd.to_datetime(cal['date'], dayfirst=True)\n",
    "\n",
    "df_welcome['is_holiday']= [ 1 if str(val).split()[0] in us_dates else 0 for val in df_welcome['date']]"
   ]
  },
  {
   "cell_type": "code",
   "execution_count": 38,
   "metadata": {},
   "outputs": [
    {
     "data": {
      "text/plain": [
       "0    0.956164\n",
       "1    0.043836\n",
       "Name: is_holiday, dtype: float64"
      ]
     },
     "execution_count": 38,
     "metadata": {},
     "output_type": "execute_result"
    }
   ],
   "source": [
    "df_welcome.is_holiday.value_counts(normalize=True)"
   ]
  },
  {
   "cell_type": "markdown",
   "metadata": {},
   "source": [
    "#### <span style=\"color:maroon\">Calculate date difference from Holidays"
   ]
  },
  {
   "cell_type": "code",
   "execution_count": 39,
   "metadata": {},
   "outputs": [
    {
     "name": "stdout",
     "output_type": "stream",
     "text": [
      "CPU times: user 3min, sys: 6.29 ms, total: 3min\n",
      "Wall time: 3min\n"
     ]
    }
   ],
   "source": [
    "%%time\n",
    "# Calculate date difference from Holidays\n",
    "cal.date=cal.date.astype('datetime64[ns]')\n",
    "cal['year']=cal.date.dt.year\n",
    "cal['date']=pd.to_datetime(cal['date'], dayfirst=True).dt.date\n",
    "#data_all_move_exp_df=data_all_move_exp_df.reset_index()\n",
    "#del data_all_move_exp_df['index']\n",
    "\n",
    "\n",
    "for i,j in df_welcome.iterrows():\n",
    "    for x,y in cal.iterrows():\n",
    "        holiday=str(cal.iloc[x].holidays)\n",
    "        if df_welcome.iloc[i].date.year==cal.iloc[x].date.year:\n",
    "            if df_welcome.iloc[i].date.date()<cal.iloc[x].date:\n",
    "                df_welcome.loc[i, 'event_'+holiday] =(cal.iloc[x].date-df_welcome.iloc[i].date.date()).total_seconds()/3600\n",
    "                "
   ]
  },
  {
   "cell_type": "code",
   "execution_count": 40,
   "metadata": {},
   "outputs": [
    {
     "data": {
      "text/html": [
       "<div>\n",
       "<style scoped>\n",
       "    .dataframe tbody tr th:only-of-type {\n",
       "        vertical-align: middle;\n",
       "    }\n",
       "\n",
       "    .dataframe tbody tr th {\n",
       "        vertical-align: top;\n",
       "    }\n",
       "\n",
       "    .dataframe thead th {\n",
       "        text-align: right;\n",
       "    }\n",
       "</style>\n",
       "<table border=\"1\" class=\"dataframe\">\n",
       "  <thead>\n",
       "    <tr style=\"text-align: right;\">\n",
       "      <th></th>\n",
       "      <th>user_id</th>\n",
       "      <th>date</th>\n",
       "      <th>validity_type_bad</th>\n",
       "      <th>bounce_type_soft</th>\n",
       "      <th>bounce_type_hard</th>\n",
       "      <th>bounce_type_other</th>\n",
       "      <th>paycheck_amount_gross</th>\n",
       "      <th>type_of_income</th>\n",
       "      <th>account_number</th>\n",
       "      <th>type_of_loan</th>\n",
       "      <th>...</th>\n",
       "      <th>user_age</th>\n",
       "      <th>credit_score</th>\n",
       "      <th>plans_count</th>\n",
       "      <th>retired_check</th>\n",
       "      <th>freq_payment</th>\n",
       "      <th>job_duration</th>\n",
       "      <th>is_holiday</th>\n",
       "      <th>event_Christmas Day</th>\n",
       "      <th>event_Thanksgiving</th>\n",
       "      <th>event_Veterans Day</th>\n",
       "    </tr>\n",
       "  </thead>\n",
       "  <tbody>\n",
       "    <tr>\n",
       "      <th>9964</th>\n",
       "      <td>41112</td>\n",
       "      <td>2019-10-21</td>\n",
       "      <td>0</td>\n",
       "      <td>1</td>\n",
       "      <td>0</td>\n",
       "      <td>0</td>\n",
       "      <td>2417</td>\n",
       "      <td>32</td>\n",
       "      <td>4700305</td>\n",
       "      <td>20</td>\n",
       "      <td>...</td>\n",
       "      <td>36</td>\n",
       "      <td>490</td>\n",
       "      <td>7</td>\n",
       "      <td>0</td>\n",
       "      <td>4</td>\n",
       "      <td>16</td>\n",
       "      <td>0</td>\n",
       "      <td>1560.0</td>\n",
       "      <td>912.0</td>\n",
       "      <td>504.0</td>\n",
       "    </tr>\n",
       "    <tr>\n",
       "      <th>9965</th>\n",
       "      <td>25608</td>\n",
       "      <td>2019-10-21</td>\n",
       "      <td>0</td>\n",
       "      <td>0</td>\n",
       "      <td>0</td>\n",
       "      <td>0</td>\n",
       "      <td>4586</td>\n",
       "      <td>21</td>\n",
       "      <td>6998511</td>\n",
       "      <td>11</td>\n",
       "      <td>...</td>\n",
       "      <td>29</td>\n",
       "      <td>485</td>\n",
       "      <td>4</td>\n",
       "      <td>0</td>\n",
       "      <td>3</td>\n",
       "      <td>10</td>\n",
       "      <td>0</td>\n",
       "      <td>1560.0</td>\n",
       "      <td>912.0</td>\n",
       "      <td>504.0</td>\n",
       "    </tr>\n",
       "    <tr>\n",
       "      <th>9966</th>\n",
       "      <td>97692</td>\n",
       "      <td>2019-10-21</td>\n",
       "      <td>0</td>\n",
       "      <td>0</td>\n",
       "      <td>0</td>\n",
       "      <td>0</td>\n",
       "      <td>4474</td>\n",
       "      <td>32</td>\n",
       "      <td>1117746</td>\n",
       "      <td>20</td>\n",
       "      <td>...</td>\n",
       "      <td>49</td>\n",
       "      <td>484</td>\n",
       "      <td>3</td>\n",
       "      <td>0</td>\n",
       "      <td>2</td>\n",
       "      <td>29</td>\n",
       "      <td>0</td>\n",
       "      <td>1560.0</td>\n",
       "      <td>912.0</td>\n",
       "      <td>504.0</td>\n",
       "    </tr>\n",
       "    <tr>\n",
       "      <th>9967</th>\n",
       "      <td>690</td>\n",
       "      <td>2019-10-21</td>\n",
       "      <td>0</td>\n",
       "      <td>0</td>\n",
       "      <td>0</td>\n",
       "      <td>0</td>\n",
       "      <td>4798</td>\n",
       "      <td>16</td>\n",
       "      <td>7472402</td>\n",
       "      <td>13</td>\n",
       "      <td>...</td>\n",
       "      <td>35</td>\n",
       "      <td>800</td>\n",
       "      <td>4</td>\n",
       "      <td>0</td>\n",
       "      <td>4</td>\n",
       "      <td>10</td>\n",
       "      <td>0</td>\n",
       "      <td>1560.0</td>\n",
       "      <td>912.0</td>\n",
       "      <td>504.0</td>\n",
       "    </tr>\n",
       "    <tr>\n",
       "      <th>9968</th>\n",
       "      <td>70142</td>\n",
       "      <td>2019-10-21</td>\n",
       "      <td>0</td>\n",
       "      <td>0</td>\n",
       "      <td>0</td>\n",
       "      <td>0</td>\n",
       "      <td>830</td>\n",
       "      <td>13</td>\n",
       "      <td>1419537</td>\n",
       "      <td>24</td>\n",
       "      <td>...</td>\n",
       "      <td>25</td>\n",
       "      <td>710</td>\n",
       "      <td>5</td>\n",
       "      <td>0</td>\n",
       "      <td>4</td>\n",
       "      <td>3</td>\n",
       "      <td>0</td>\n",
       "      <td>1560.0</td>\n",
       "      <td>912.0</td>\n",
       "      <td>504.0</td>\n",
       "    </tr>\n",
       "  </tbody>\n",
       "</table>\n",
       "<p>5 rows × 30 columns</p>\n",
       "</div>"
      ],
      "text/plain": [
       "      user_id       date  validity_type_bad  bounce_type_soft  \\\n",
       "9964    41112 2019-10-21                  0                 1   \n",
       "9965    25608 2019-10-21                  0                 0   \n",
       "9966    97692 2019-10-21                  0                 0   \n",
       "9967      690 2019-10-21                  0                 0   \n",
       "9968    70142 2019-10-21                  0                 0   \n",
       "\n",
       "      bounce_type_hard  bounce_type_other  paycheck_amount_gross  \\\n",
       "9964                 0                  0                   2417   \n",
       "9965                 0                  0                   4586   \n",
       "9966                 0                  0                   4474   \n",
       "9967                 0                  0                   4798   \n",
       "9968                 0                  0                    830   \n",
       "\n",
       "     type_of_income  account_number type_of_loan  ...  user_age  credit_score  \\\n",
       "9964             32         4700305           20  ...        36           490   \n",
       "9965             21         6998511           11  ...        29           485   \n",
       "9966             32         1117746           20  ...        49           484   \n",
       "9967             16         7472402           13  ...        35           800   \n",
       "9968             13         1419537           24  ...        25           710   \n",
       "\n",
       "      plans_count  retired_check  freq_payment  job_duration  is_holiday  \\\n",
       "9964            7              0             4            16           0   \n",
       "9965            4              0             3            10           0   \n",
       "9966            3              0             2            29           0   \n",
       "9967            4              0             4            10           0   \n",
       "9968            5              0             4             3           0   \n",
       "\n",
       "     event_Christmas Day event_Thanksgiving  event_Veterans Day  \n",
       "9964              1560.0              912.0               504.0  \n",
       "9965              1560.0              912.0               504.0  \n",
       "9966              1560.0              912.0               504.0  \n",
       "9967              1560.0              912.0               504.0  \n",
       "9968              1560.0              912.0               504.0  \n",
       "\n",
       "[5 rows x 30 columns]"
      ]
     },
     "execution_count": 40,
     "metadata": {},
     "output_type": "execute_result"
    }
   ],
   "source": [
    "df_welcome.tail()"
   ]
  },
  {
   "cell_type": "markdown",
   "metadata": {},
   "source": [
    "#### <span style=\"color:maroon\">Create day_of_week column"
   ]
  },
  {
   "cell_type": "code",
   "execution_count": 41,
   "metadata": {},
   "outputs": [
    {
     "data": {
      "text/plain": [
       "array([1, 0, 6, 5, 4, 3, 2])"
      ]
     },
     "execution_count": 41,
     "metadata": {},
     "output_type": "execute_result"
    }
   ],
   "source": [
    "## split datetime to date and hour from time\n",
    "df_welcome.date=df_welcome.date.astype('datetime64[ns]')\n",
    "df_welcome['day_of_week'] = df_welcome['date'].dt.dayofweek\n",
    "df_welcome['day_of_week'].unique()"
   ]
  },
  {
   "cell_type": "markdown",
   "metadata": {},
   "source": [
    "#### <span style=\"color:maroon\"> Create end_month column"
   ]
  },
  {
   "cell_type": "code",
   "execution_count": 42,
   "metadata": {},
   "outputs": [],
   "source": [
    "#create end of month\n",
    "df_welcome['end_month'] = df_welcome['date'].apply(lambda x: 1 if ((x.day)-(x.days_in_month)==0) else 0)"
   ]
  },
  {
   "cell_type": "markdown",
   "metadata": {},
   "source": [
    "#### <span style=\"color:maroon\">Calculate Gross Monthly income "
   ]
  },
  {
   "cell_type": "code",
   "execution_count": 43,
   "metadata": {},
   "outputs": [],
   "source": [
    "#calculate gross monthly income\n",
    "df_welcome.freq_payment= df_welcome.freq_payment.astype('int')         \n",
    "df_welcome['gross_monthly_income'] = df_welcome.paycheck_amount_gross *df_welcome.freq_payment"
   ]
  },
  {
   "cell_type": "markdown",
   "metadata": {},
   "source": [
    "#### <span style=\"color:maroon\"> Gross monthly income vs Target Variable"
   ]
  },
  {
   "cell_type": "code",
   "execution_count": 44,
   "metadata": {},
   "outputs": [
    {
     "data": {
      "text/plain": [
       "<matplotlib.axes._subplots.AxesSubplot at 0x7f0e4f133dd8>"
      ]
     },
     "execution_count": 44,
     "metadata": {},
     "output_type": "execute_result"
    },
    {
     "data": {
      "image/png": "[encoded data removed]",
      "text/plain": [
       "<Figure size 576x288 with 1 Axes>"
      ]
     },
     "metadata": {
      "needs_background": "light"
     },
     "output_type": "display_data"
    }
   ],
   "source": [
    "fig, ax = plt.subplots(figsize=(8, 4))\n",
    "df_welcome.boxplot(column='gross_monthly_income', by= 'target_variable', ax=ax)"
   ]
  },
  {
   "cell_type": "markdown",
   "metadata": {},
   "source": [
    "###### Here we notice that there is a clear distinction between the distribution of the gross monthly income for the 2 classes. <br>Gross Monthly income for positive result is on an  higher end. \n"
   ]
  },
  {
   "cell_type": "markdown",
   "metadata": {},
   "source": [
    "#### <span style=\"color:maroon\"> Create job_duration bins\n",
    "    \n",
    "Based on the EDA before, we could sense that there are pre establisehd bins based on the frewuency, and hence 0-10,10-20,20-35 and 35 and above"
   ]
  },
  {
   "cell_type": "code",
   "execution_count": 45,
   "metadata": {},
   "outputs": [
    {
     "data": {
      "text/plain": [
       "array(['job_duration_4', 'job_duration_2', 'job_duration_3',\n",
       "       'job_duration_5'], dtype=object)"
      ]
     },
     "execution_count": 45,
     "metadata": {},
     "output_type": "execute_result"
    }
   ],
   "source": [
    "#job_duration_bin\n",
    "df_welcome.drop(df_welcome[df_welcome.job_duration>=80].index, inplace=True)\n",
    "df_welcome['job_duration_bin']=df_welcome['job_duration'].copy()\n",
    "\n",
    "df_welcome.loc[ (df_welcome.retired_check == 1) , 'job_duration_bin'] = \"Retired_SS\"\n",
    "df_welcome['job_duration_bin']=df_welcome['job_duration_bin'].fillna('not_avl')\n",
    "df_welcome.loc[(df_welcome.job_duration ==2 ) , 'job_duration_bin'] = \"job_duration_1\"\n",
    "df_welcome.loc[(df_welcome.job_duration >=0 ) & (df_welcome.job_duration <10) , 'job_duration_bin'] = \"job_duration_2\"\n",
    "df_welcome.loc[(df_welcome.job_duration >=10) & (df_welcome.job_duration <20) , 'job_duration_bin'] = \"job_duration_3\"\n",
    "\n",
    "df_welcome.loc[(df_welcome.job_duration >=20 ) & (df_welcome.job_duration <35) , 'job_duration_bin'] = \"job_duration_4\"\n",
    "\n",
    "df_welcome.loc[df_welcome.job_duration >=35 , 'job_duration_bin'] = \"job_duration_5\"\n",
    "\n",
    "df_welcome.job_duration_bin.unique()"
   ]
  },
  {
   "cell_type": "markdown",
   "metadata": {},
   "source": [
    "#### <span style=\"color:maroon\">Delete columns not required for Analysis/Modeling"
   ]
  },
  {
   "cell_type": "code",
   "execution_count": 46,
   "metadata": {},
   "outputs": [],
   "source": [
    "del df_welcome['retired_check']\n",
    "del df_welcome['freq_payment']\n",
    "del df_welcome['job_duration']\n",
    "#del df_welcome['state']"
   ]
  },
  {
   "cell_type": "markdown",
   "metadata": {},
   "source": [
    "#### <span style=\"color:maroon\"> One-Hot encoding for categorical attributes"
   ]
  },
  {
   "cell_type": "code",
   "execution_count": 47,
   "metadata": {},
   "outputs": [],
   "source": [
    "data=df_welcome.copy()"
   ]
  },
  {
   "cell_type": "code",
   "execution_count": 48,
   "metadata": {},
   "outputs": [],
   "source": [
    "model_data1 = pd.get_dummies(data['type_of_income'])\n",
    "model_data2 = pd.get_dummies(data['type_of_loan'])\n",
    "model_data4 = pd.get_dummies(data['type_of_address'])\n",
    "model_data5 = pd.get_dummies(data['day_of_week'])\n",
    "model_data6 = pd.get_dummies(data['job_duration_bin'])\n",
    "model_data7 = pd.get_dummies(data['state'])\n"
   ]
  },
  {
   "cell_type": "code",
   "execution_count": 49,
   "metadata": {},
   "outputs": [],
   "source": [
    "new_data=pd.concat([data,model_data1],axis=1)\n",
    "new_data=pd.concat([new_data,model_data2],axis=1)\n",
    "new_data=pd.concat([new_data,model_data4],axis=1)\n",
    "new_data=pd.concat([new_data,model_data5],axis=1)\n",
    "new_data=pd.concat([new_data,model_data6],axis=1)\n",
    "new_data=pd.concat([new_data,model_data7],axis=1)\n"
   ]
  },
  {
   "cell_type": "code",
   "execution_count": 50,
   "metadata": {},
   "outputs": [
    {
     "data": {
      "text/html": [
       "<div>\n",
       "<style scoped>\n",
       "    .dataframe tbody tr th:only-of-type {\n",
       "        vertical-align: middle;\n",
       "    }\n",
       "\n",
       "    .dataframe tbody tr th {\n",
       "        vertical-align: top;\n",
       "    }\n",
       "\n",
       "    .dataframe thead th {\n",
       "        text-align: right;\n",
       "    }\n",
       "</style>\n",
       "<table border=\"1\" class=\"dataframe\">\n",
       "  <thead>\n",
       "    <tr style=\"text-align: right;\">\n",
       "      <th></th>\n",
       "      <th>user_id</th>\n",
       "      <th>date</th>\n",
       "      <th>validity_type_bad</th>\n",
       "      <th>bounce_type_soft</th>\n",
       "      <th>bounce_type_hard</th>\n",
       "      <th>bounce_type_other</th>\n",
       "      <th>paycheck_amount_gross</th>\n",
       "      <th>type_of_income</th>\n",
       "      <th>account_number</th>\n",
       "      <th>type_of_loan</th>\n",
       "      <th>...</th>\n",
       "      <th>job_duration_4</th>\n",
       "      <th>job_duration_5</th>\n",
       "      <th>AZ</th>\n",
       "      <th>CA</th>\n",
       "      <th>FL</th>\n",
       "      <th>GA</th>\n",
       "      <th>IL</th>\n",
       "      <th>IN</th>\n",
       "      <th>NJ</th>\n",
       "      <th>TX</th>\n",
       "    </tr>\n",
       "  </thead>\n",
       "  <tbody>\n",
       "    <tr>\n",
       "      <th>0</th>\n",
       "      <td>30894</td>\n",
       "      <td>2019-12-31</td>\n",
       "      <td>0</td>\n",
       "      <td>0</td>\n",
       "      <td>0</td>\n",
       "      <td>0</td>\n",
       "      <td>2692</td>\n",
       "      <td>23</td>\n",
       "      <td>6887733</td>\n",
       "      <td>11</td>\n",
       "      <td>...</td>\n",
       "      <td>1</td>\n",
       "      <td>0</td>\n",
       "      <td>0</td>\n",
       "      <td>0</td>\n",
       "      <td>0</td>\n",
       "      <td>0</td>\n",
       "      <td>0</td>\n",
       "      <td>0</td>\n",
       "      <td>0</td>\n",
       "      <td>1</td>\n",
       "    </tr>\n",
       "    <tr>\n",
       "      <th>1</th>\n",
       "      <td>44938</td>\n",
       "      <td>2019-12-31</td>\n",
       "      <td>0</td>\n",
       "      <td>0</td>\n",
       "      <td>0</td>\n",
       "      <td>0</td>\n",
       "      <td>4999</td>\n",
       "      <td>15</td>\n",
       "      <td>7114767</td>\n",
       "      <td>7</td>\n",
       "      <td>...</td>\n",
       "      <td>0</td>\n",
       "      <td>0</td>\n",
       "      <td>0</td>\n",
       "      <td>1</td>\n",
       "      <td>0</td>\n",
       "      <td>0</td>\n",
       "      <td>0</td>\n",
       "      <td>0</td>\n",
       "      <td>0</td>\n",
       "      <td>0</td>\n",
       "    </tr>\n",
       "    <tr>\n",
       "      <th>2</th>\n",
       "      <td>23989</td>\n",
       "      <td>2019-12-31</td>\n",
       "      <td>0</td>\n",
       "      <td>0</td>\n",
       "      <td>0</td>\n",
       "      <td>0</td>\n",
       "      <td>1124</td>\n",
       "      <td>15</td>\n",
       "      <td>2940349</td>\n",
       "      <td>11</td>\n",
       "      <td>...</td>\n",
       "      <td>1</td>\n",
       "      <td>0</td>\n",
       "      <td>1</td>\n",
       "      <td>0</td>\n",
       "      <td>0</td>\n",
       "      <td>0</td>\n",
       "      <td>0</td>\n",
       "      <td>0</td>\n",
       "      <td>0</td>\n",
       "      <td>0</td>\n",
       "    </tr>\n",
       "    <tr>\n",
       "      <th>3</th>\n",
       "      <td>7661</td>\n",
       "      <td>2019-12-31</td>\n",
       "      <td>0</td>\n",
       "      <td>0</td>\n",
       "      <td>0</td>\n",
       "      <td>0</td>\n",
       "      <td>4754</td>\n",
       "      <td>7</td>\n",
       "      <td>7650219</td>\n",
       "      <td>30</td>\n",
       "      <td>...</td>\n",
       "      <td>1</td>\n",
       "      <td>0</td>\n",
       "      <td>0</td>\n",
       "      <td>0</td>\n",
       "      <td>0</td>\n",
       "      <td>0</td>\n",
       "      <td>0</td>\n",
       "      <td>0</td>\n",
       "      <td>1</td>\n",
       "      <td>0</td>\n",
       "    </tr>\n",
       "    <tr>\n",
       "      <th>4</th>\n",
       "      <td>78742</td>\n",
       "      <td>2019-12-31</td>\n",
       "      <td>0</td>\n",
       "      <td>1</td>\n",
       "      <td>0</td>\n",
       "      <td>0</td>\n",
       "      <td>2950</td>\n",
       "      <td>17</td>\n",
       "      <td>1876711</td>\n",
       "      <td>not_avl</td>\n",
       "      <td>...</td>\n",
       "      <td>0</td>\n",
       "      <td>0</td>\n",
       "      <td>0</td>\n",
       "      <td>0</td>\n",
       "      <td>0</td>\n",
       "      <td>0</td>\n",
       "      <td>0</td>\n",
       "      <td>0</td>\n",
       "      <td>0</td>\n",
       "      <td>1</td>\n",
       "    </tr>\n",
       "  </tbody>\n",
       "</table>\n",
       "<p>5 rows × 107 columns</p>\n",
       "</div>"
      ],
      "text/plain": [
       "   user_id       date  validity_type_bad  bounce_type_soft  bounce_type_hard  \\\n",
       "0    30894 2019-12-31                  0                 0                 0   \n",
       "1    44938 2019-12-31                  0                 0                 0   \n",
       "2    23989 2019-12-31                  0                 0                 0   \n",
       "3     7661 2019-12-31                  0                 0                 0   \n",
       "4    78742 2019-12-31                  0                 1                 0   \n",
       "\n",
       "   bounce_type_other  paycheck_amount_gross type_of_income  account_number  \\\n",
       "0                  0                   2692             23         6887733   \n",
       "1                  0                   4999             15         7114767   \n",
       "2                  0                   1124             15         2940349   \n",
       "3                  0                   4754              7         7650219   \n",
       "4                  0                   2950             17         1876711   \n",
       "\n",
       "  type_of_loan  ...  job_duration_4  job_duration_5  AZ  CA  FL  GA  IL IN NJ  \\\n",
       "0           11  ...               1               0   0   0   0   0   0  0  0   \n",
       "1            7  ...               0               0   0   1   0   0   0  0  0   \n",
       "2           11  ...               1               0   1   0   0   0   0  0  0   \n",
       "3           30  ...               1               0   0   0   0   0   0  0  1   \n",
       "4      not_avl  ...               0               0   0   0   0   0   0  0  0   \n",
       "\n",
       "   TX  \n",
       "0   1  \n",
       "1   0  \n",
       "2   0  \n",
       "3   0  \n",
       "4   1  \n",
       "\n",
       "[5 rows x 107 columns]"
      ]
     },
     "execution_count": 50,
     "metadata": {},
     "output_type": "execute_result"
    }
   ],
   "source": [
    "new_data.head()\n"
   ]
  },
  {
   "cell_type": "markdown",
   "metadata": {},
   "source": [
    "#### <span style=\"color:maroon\"> Delete the categorical columns once one hot encoding is done"
   ]
  },
  {
   "cell_type": "code",
   "execution_count": 51,
   "metadata": {},
   "outputs": [],
   "source": [
    "data=new_data.copy()\n",
    "del data['type_of_income']\n",
    "del data['type_of_loan']\n",
    "del data['state']\n",
    "del data['type_of_address']\n",
    "del data['day_of_week']\n",
    "del data['job_duration_bin']\n",
    "data['target']=data['target_variable']\n",
    "del data['target_variable']"
   ]
  },
  {
   "cell_type": "code",
   "execution_count": 52,
   "metadata": {},
   "outputs": [],
   "source": [
    "#set user_id as the first column\n",
    "data=pd.concat([data['user_id'], data.drop(['user_id'], axis=1)], axis=1)"
   ]
  },
  {
   "cell_type": "code",
   "execution_count": 53,
   "metadata": {},
   "outputs": [],
   "source": [
    "#set date as the first column\n",
    "data=pd.concat([data['date'], data.drop(['date'], axis=1)], axis=1)"
   ]
  },
  {
   "cell_type": "markdown",
   "metadata": {},
   "source": [
    "# 3. Session 3 -   Developing a Benchmark model-------------------------------------------"
   ]
  },
  {
   "cell_type": "markdown",
   "metadata": {},
   "source": [
    "### <span style=\"color:blue\"> 3.a) ML preparation \n"
   ]
  },
  {
   "cell_type": "markdown",
   "metadata": {},
   "source": [
    "#### <span style=\"color:maroon\"> Split the dataset to training, validation, and testing"
   ]
  },
  {
   "cell_type": "code",
   "execution_count": 54,
   "metadata": {},
   "outputs": [],
   "source": [
    "import random\n",
    "random.seed(2019)\n",
    "rand_split = np.random.rand(len(data))\n",
    "train_list = rand_split <= 0.65\n",
    "val_list = (rand_split > 0.65) & (rand_split < 0.8)\n",
    "test_list = rand_split >= 0.8\n",
    "\n",
    "train_data = data[train_list]\n",
    "validation_data = data[val_list]\n",
    "test_data = data[test_list]"
   ]
  },
  {
   "cell_type": "markdown",
   "metadata": {},
   "source": [
    "#### <span style=\"color:maroon\"> Amazon SageMaker's XGBoost container expects data in the libSVM or CSV data format.We are using CSV for this case"
   ]
  },
  {
   "cell_type": "code",
   "execution_count": 55,
   "metadata": {},
   "outputs": [],
   "source": [
    "pd.concat([train_data['target'], train_data.drop(['target','user_id','date','account_number'], axis=1)], axis=1).to_csv('train.csv', index=False, header=False)\n",
    "pd.concat([validation_data['target'], validation_data.drop(['target','user_id','date','account_number'], axis=1)], axis=1).to_csv('validation.csv', index=False, header=False)\n"
   ]
  },
  {
   "cell_type": "markdown",
   "metadata": {},
   "source": [
    "#### <span style=\"color:maroon\"> Now we'll copy the file to S3 for Amazon SageMaker's managed training to pickup."
   ]
  },
  {
   "cell_type": "code",
   "execution_count": 56,
   "metadata": {},
   "outputs": [
    {
     "data": {
      "text/plain": [
       "'s3://aws-immersion-day--ml/PROPENSITY-DATA/01-EMAIL/xgboost/training-files/validation/validation.csv/validation.csv'"
      ]
     },
     "execution_count": 56,
     "metadata": {},
     "output_type": "execute_result"
    }
   ],
   "source": [
    "sess.upload_data(path='train.csv', bucket=bucket, key_prefix=prefix+'/train/train.csv')\n",
    "sess.upload_data(path='validation.csv', bucket=bucket, key_prefix=prefix+'/validation/validation.csv')"
   ]
  },
  {
   "cell_type": "markdown",
   "metadata": {},
   "source": [
    "### <span style=\"color:blue\">3.b) Training"
   ]
  },
  {
   "cell_type": "markdown",
   "metadata": {},
   "source": [
    "#### <span style=\"color:maroon\">  First we'll need to specify the ECR container location for Amazon SageMaker's implementation of XGBoost."
   ]
  },
  {
   "cell_type": "code",
   "execution_count": 57,
   "metadata": {},
   "outputs": [],
   "source": [
    "container = image_uris.retrieve('xgboost', boto3.Session().region_name, '1.2-1' )"
   ]
  },
  {
   "cell_type": "markdown",
   "metadata": {},
   "source": [
    "#### <span style=\"color:maroon\">  Then, because we're training with the CSV file format, we'll create s3_inputs that our training function can use as a pointer to the files in S3, which also specify that the content type is CSV."
   ]
  },
  {
   "cell_type": "code",
   "execution_count": 58,
   "metadata": {},
   "outputs": [],
   "source": [
    "s3_input_train = TrainingInput(s3_data='s3://{}/{}/train'.format(bucket, prefix), content_type='csv')\n",
    "s3_input_validation = TrainingInput(s3_data='s3://{}/{}/validation/'.format(bucket, prefix), content_type='csv')"
   ]
  },
  {
   "cell_type": "code",
   "execution_count": 59,
   "metadata": {},
   "outputs": [
    {
     "data": {
      "text/plain": [
       "3.73313995649021"
      ]
     },
     "execution_count": 59,
     "metadata": {},
     "output_type": "execute_result"
    }
   ],
   "source": [
    "weight_scale = len(train_data[train_data['target']==0]['target'])/len(train_data[train_data['target']==1]['target'])\n",
    "weight_scale"
   ]
  },
  {
   "cell_type": "markdown",
   "metadata": {},
   "source": [
    "#### <span style=\"color:maroon\">  First we'll need to specify training parameters to the estimator. This includes:\n",
    "\n",
    "1) The xgboost algorithm container<br />\n",
    "2) The IAM role to use<br />\n",
    "3) Training instance type and count<br />\n",
    "4) S3 location for output data<br />\n",
    "5) Algorithm hyperparameters<br />\n",
    "6) And then a .fit() function which specifies:<br />\n",
    "S3 location for output data. In this case we have both a training and validation set which are passed in."
   ]
  },
  {
   "cell_type": "code",
   "execution_count": 60,
   "metadata": {},
   "outputs": [
    {
     "name": "stdout",
     "output_type": "stream",
     "text": [
      "2020-12-09 17:48:05 Starting - Starting the training job...\n",
      "2020-12-09 17:48:07 Starting - Launching requested ML instances......\n",
      "2020-12-09 17:49:13 Starting - Preparing the instances for training......\n",
      "2020-12-09 17:50:13 Downloading - Downloading input data...\n",
      "2020-12-09 17:51:06 Training - Training image download completed. Training in progress..\u001b[34mINFO:sagemaker-containers:Imported framework sagemaker_xgboost_container.training\u001b[0m\n",
      "\u001b[34mINFO:sagemaker-containers:Failed to parse hyperparameter objective value binary:logistic to Json.\u001b[0m\n",
      "\u001b[34mReturning the value itself\u001b[0m\n",
      "\u001b[34mINFO:sagemaker-containers:No GPUs detected (normal if no gpus installed)\u001b[0m\n",
      "\u001b[34mINFO:sagemaker_xgboost_container.training:Running XGBoost Sagemaker in algorithm mode\u001b[0m\n",
      "\u001b[34mINFO:root:Determined delimiter of CSV input is ','\u001b[0m\n",
      "\u001b[34mINFO:root:Determined delimiter of CSV input is ','\u001b[0m\n",
      "\u001b[34mINFO:root:Determined delimiter of CSV input is ','\u001b[0m\n",
      "\u001b[34mINFO:root:Determined delimiter of CSV input is ','\u001b[0m\n",
      "\u001b[34mINFO:root:Single node training.\u001b[0m\n",
      "\u001b[34mINFO:root:Train matrix has 6527 rows\u001b[0m\n",
      "\u001b[34mINFO:root:Validation matrix has 1506 rows\u001b[0m\n",
      "\u001b[34m[0]#011train-error:0.00980#011validation-error:0.01328\u001b[0m\n",
      "\u001b[34m[1]#011train-error:0.00889#011validation-error:0.01129\u001b[0m\n",
      "\u001b[34m[2]#011train-error:0.00843#011validation-error:0.01328\u001b[0m\n",
      "\u001b[34m[3]#011train-error:0.00858#011validation-error:0.01262\u001b[0m\n",
      "\u001b[34m[4]#011train-error:0.00935#011validation-error:0.01461\u001b[0m\n",
      "\u001b[34m[5]#011train-error:0.00950#011validation-error:0.01461\u001b[0m\n",
      "\u001b[34m[6]#011train-error:0.00919#011validation-error:0.01394\u001b[0m\n",
      "\u001b[34m[7]#011train-error:0.00950#011validation-error:0.01328\u001b[0m\n",
      "\u001b[34m[8]#011train-error:0.00904#011validation-error:0.01394\u001b[0m\n",
      "\u001b[34m[9]#011train-error:0.00980#011validation-error:0.01461\u001b[0m\n",
      "\u001b[34m[10]#011train-error:0.00935#011validation-error:0.01394\u001b[0m\n",
      "\u001b[34m[11]#011train-error:0.00996#011validation-error:0.01461\u001b[0m\n",
      "\u001b[34m[12]#011train-error:0.01011#011validation-error:0.01461\u001b[0m\n",
      "\u001b[34m[13]#011train-error:0.00965#011validation-error:0.01394\u001b[0m\n",
      "\u001b[34m[14]#011train-error:0.01011#011validation-error:0.01461\u001b[0m\n",
      "\u001b[34m[15]#011train-error:0.00980#011validation-error:0.01328\u001b[0m\n",
      "\u001b[34m[16]#011train-error:0.00965#011validation-error:0.01328\u001b[0m\n",
      "\u001b[34m[17]#011train-error:0.00889#011validation-error:0.01328\u001b[0m\n",
      "\u001b[34m[18]#011train-error:0.00904#011validation-error:0.01394\u001b[0m\n",
      "\u001b[34m[19]#011train-error:0.00843#011validation-error:0.01129\u001b[0m\n",
      "\u001b[34m[20]#011train-error:0.00843#011validation-error:0.01328\u001b[0m\n",
      "\u001b[34m[21]#011train-error:0.00781#011validation-error:0.01062\u001b[0m\n",
      "\u001b[34m[22]#011train-error:0.00674#011validation-error:0.00996\u001b[0m\n",
      "\u001b[34m[23]#011train-error:0.00751#011validation-error:0.01195\u001b[0m\n",
      "\u001b[34m[24]#011train-error:0.00735#011validation-error:0.01129\u001b[0m\n",
      "\u001b[34m[25]#011train-error:0.00720#011validation-error:0.01129\u001b[0m\n",
      "\u001b[34m[26]#011train-error:0.00659#011validation-error:0.00996\u001b[0m\n",
      "\u001b[34m[27]#011train-error:0.00705#011validation-error:0.01129\u001b[0m\n",
      "\u001b[34m[28]#011train-error:0.00613#011validation-error:0.01062\u001b[0m\n",
      "\u001b[34m[29]#011train-error:0.00521#011validation-error:0.01129\u001b[0m\n",
      "\u001b[34m[30]#011train-error:0.00490#011validation-error:0.00996\u001b[0m\n",
      "\u001b[34m[31]#011train-error:0.00475#011validation-error:0.01129\u001b[0m\n",
      "\u001b[34m[32]#011train-error:0.00521#011validation-error:0.00996\u001b[0m\n",
      "\u001b[34m[33]#011train-error:0.00444#011validation-error:0.00996\u001b[0m\n",
      "\u001b[34m[34]#011train-error:0.00475#011validation-error:0.01062\u001b[0m\n",
      "\u001b[34m[35]#011train-error:0.00429#011validation-error:0.01062\u001b[0m\n",
      "\u001b[34m[36]#011train-error:0.00383#011validation-error:0.01062\u001b[0m\n",
      "\u001b[34m[37]#011train-error:0.00414#011validation-error:0.00930\u001b[0m\n",
      "\u001b[34m[38]#011train-error:0.00414#011validation-error:0.00930\u001b[0m\n",
      "\u001b[34m[39]#011train-error:0.00414#011validation-error:0.00930\u001b[0m\n",
      "\u001b[34m[40]#011train-error:0.00383#011validation-error:0.00996\u001b[0m\n",
      "\u001b[34m[41]#011train-error:0.00352#011validation-error:0.00863\u001b[0m\n",
      "\u001b[34m[42]#011train-error:0.00352#011validation-error:0.00930\u001b[0m\n",
      "\u001b[34m[43]#011train-error:0.00352#011validation-error:0.00930\u001b[0m\n",
      "\u001b[34m[44]#011train-error:0.00398#011validation-error:0.00996\u001b[0m\n",
      "\u001b[34m[45]#011train-error:0.00368#011validation-error:0.00996\u001b[0m\n",
      "\u001b[34m[46]#011train-error:0.00368#011validation-error:0.00996\u001b[0m\n",
      "\u001b[34m[47]#011train-error:0.00368#011validation-error:0.00996\u001b[0m\n",
      "\u001b[34m[48]#011train-error:0.00368#011validation-error:0.00996\u001b[0m\n",
      "\u001b[34m[49]#011train-error:0.00368#011validation-error:0.00996\u001b[0m\n",
      "\u001b[34m[50]#011train-error:0.00368#011validation-error:0.00996\u001b[0m\n",
      "\u001b[34m[51]#011train-error:0.00383#011validation-error:0.00996\u001b[0m\n",
      "\u001b[34m[52]#011train-error:0.00398#011validation-error:0.00996\u001b[0m\n",
      "\u001b[34m[53]#011train-error:0.00414#011validation-error:0.00996\u001b[0m\n",
      "\u001b[34m[54]#011train-error:0.00414#011validation-error:0.00996\u001b[0m\n",
      "\u001b[34m[55]#011train-error:0.00414#011validation-error:0.00996\u001b[0m\n",
      "\u001b[34m[56]#011train-error:0.00414#011validation-error:0.00996\u001b[0m\n",
      "\u001b[34m[57]#011train-error:0.00414#011validation-error:0.00996\u001b[0m\n",
      "\u001b[34m[58]#011train-error:0.00414#011validation-error:0.00996\u001b[0m\n",
      "\u001b[34m[59]#011train-error:0.00414#011validation-error:0.00996\u001b[0m\n",
      "\u001b[34m[60]#011train-error:0.00414#011validation-error:0.00996\u001b[0m\n",
      "\u001b[34m[61]#011train-error:0.00414#011validation-error:0.00996\u001b[0m\n",
      "\u001b[34m[62]#011train-error:0.00398#011validation-error:0.00996\u001b[0m\n",
      "\u001b[34m[63]#011train-error:0.00398#011validation-error:0.00996\u001b[0m\n",
      "\u001b[34m[64]#011train-error:0.00398#011validation-error:0.00996\u001b[0m\n",
      "\u001b[34m[65]#011train-error:0.00398#011validation-error:0.00996\u001b[0m\n",
      "\u001b[34m[66]#011train-error:0.00398#011validation-error:0.00996\u001b[0m\n",
      "\u001b[34m[67]#011train-error:0.00398#011validation-error:0.00996\u001b[0m\n",
      "\u001b[34m[68]#011train-error:0.00398#011validation-error:0.00996\u001b[0m\n",
      "\u001b[34m[69]#011train-error:0.00398#011validation-error:0.00996\u001b[0m\n",
      "\u001b[34m[70]#011train-error:0.00398#011validation-error:0.00996\u001b[0m\n",
      "\u001b[34m[71]#011train-error:0.00398#011validation-error:0.00996\u001b[0m\n",
      "\u001b[34m[72]#011train-error:0.00398#011validation-error:0.00996\u001b[0m\n",
      "\u001b[34m[73]#011train-error:0.00398#011validation-error:0.00996\u001b[0m\n",
      "\u001b[34m[74]#011train-error:0.00398#011validation-error:0.00996\u001b[0m\n",
      "\u001b[34m[75]#011train-error:0.00398#011validation-error:0.00996\u001b[0m\n",
      "\u001b[34m[76]#011train-error:0.00429#011validation-error:0.00996\u001b[0m\n",
      "\u001b[34m[77]#011train-error:0.00429#011validation-error:0.00996\u001b[0m\n",
      "\u001b[34m[78]#011train-error:0.00383#011validation-error:0.00996\u001b[0m\n",
      "\u001b[34m[79]#011train-error:0.00383#011validation-error:0.00996\u001b[0m\n",
      "\u001b[34m[80]#011train-error:0.00383#011validation-error:0.00996\u001b[0m\n",
      "\u001b[34m[81]#011train-error:0.00398#011validation-error:0.00996\u001b[0m\n",
      "\u001b[34m[82]#011train-error:0.00383#011validation-error:0.00996\u001b[0m\n",
      "\u001b[34m[83]#011train-error:0.00383#011validation-error:0.00996\u001b[0m\n",
      "\u001b[34m[84]#011train-error:0.00383#011validation-error:0.00996\u001b[0m\n",
      "\u001b[34m[85]#011train-error:0.00383#011validation-error:0.00996\u001b[0m\n",
      "\u001b[34m[86]#011train-error:0.00383#011validation-error:0.00996\u001b[0m\n",
      "\u001b[34m[87]#011train-error:0.00398#011validation-error:0.00996\u001b[0m\n",
      "\u001b[34m[88]#011train-error:0.00398#011validation-error:0.00996\u001b[0m\n",
      "\u001b[34m[89]#011train-error:0.00368#011validation-error:0.00930\u001b[0m\n",
      "\u001b[34m[90]#011train-error:0.00383#011validation-error:0.00996\u001b[0m\n",
      "\u001b[34m[91]#011train-error:0.00383#011validation-error:0.00996\u001b[0m\n",
      "\u001b[34m[92]#011train-error:0.00398#011validation-error:0.00996\u001b[0m\n",
      "\u001b[34m[93]#011train-error:0.00383#011validation-error:0.00996\u001b[0m\n",
      "\u001b[34m[94]#011train-error:0.00383#011validation-error:0.00996\u001b[0m\n",
      "\u001b[34m[95]#011train-error:0.00383#011validation-error:0.00996\u001b[0m\n",
      "\u001b[34m[96]#011train-error:0.00383#011validation-error:0.00996\u001b[0m\n",
      "\u001b[34m[97]#011train-error:0.00383#011validation-error:0.00996\u001b[0m\n",
      "\u001b[34m[98]#011train-error:0.00383#011validation-error:0.00996\u001b[0m\n",
      "\u001b[34m[99]#011train-error:0.00398#011validation-error:0.00996\u001b[0m\n",
      "\n",
      "2020-12-09 17:51:19 Uploading - Uploading generated training model\n",
      "2020-12-09 17:51:19 Completed - Training job completed\n",
      "Training seconds: 66\n",
      "Billable seconds: 66\n"
     ]
    }
   ],
   "source": [
    "xgb = Estimator(container,\n",
    "                role,\n",
    "                instance_count=1,\n",
    "                instance_type='ml.m5.large',\n",
    "                output_path='s3://{}/{}/output'.format(bucket, prefix))\n",
    "\n",
    "xgb.set_hyperparameters(max_depth=5,\n",
    "                        eta=0.2,\n",
    "                        gamma=4,\n",
    "                        min_child_weight=6,\n",
    "                        subsample=0.8,\n",
    "                        objective='binary:logistic',\n",
    "                        num_round=100,\n",
    "                       scale_pos_weight=weight_scale)\n",
    "\n",
    "xgb.fit({'train': s3_input_train, 'validation': s3_input_validation}) "
   ]
  },
  {
   "cell_type": "markdown",
   "metadata": {},
   "source": [
    "### <span style=\"color:blue\">3.c) Hyper Parameter Training\n"
   ]
  },
  {
   "cell_type": "markdown",
   "metadata": {},
   "source": [
    "# 4. Session 4 - Operationalization and Evaluation-----------------------------------------"
   ]
  },
  {
   "cell_type": "markdown",
   "metadata": {},
   "source": [
    "### <span style=\"color:blue\">Hosting- ENDPOINT CREATION"
   ]
  },
  {
   "cell_type": "markdown",
   "metadata": {},
   "source": [
    "\n",
    "Now that we've trained the xgboost algorithm on our data, let's deploy a model that's hosted behind a real-time endpoint."
   ]
  },
  {
   "cell_type": "code",
   "execution_count": 61,
   "metadata": {},
   "outputs": [
    {
     "name": "stdout",
     "output_type": "stream",
     "text": [
      "---------------!CPU times: user 279 ms, sys: 12 ms, total: 291 ms\n",
      "Wall time: 7min 32s\n"
     ]
    }
   ],
   "source": [
    "%%time\n",
    "xgb_predictor = xgb.deploy(initial_instance_count=1,instance_type='ml.t2.medium')"
   ]
  },
  {
   "cell_type": "markdown",
   "metadata": {},
   "source": [
    "### <span style=\"color:blue\">4.a) BATCH PREDICTIONS \n",
    "Function to get predictions from the endpoint hosted in the previous section(Hosting)"
   ]
  },
  {
   "cell_type": "code",
   "execution_count": 62,
   "metadata": {},
   "outputs": [],
   "source": [
    "\n",
    "xgb_predictor.serializer = CSVSerializer()\n",
    "\n",
    "def predict(data, rows=500):\n",
    "    split_array = np.array_split(data, int(data.shape[0] / float(rows) + 1))\n",
    "    predictions = ''\n",
    "    for array in split_array:\n",
    "        predictions = ','.join([predictions, xgb_predictor.predict(array).decode('utf-8')])\n",
    "    return np.fromstring(predictions[1:], sep=',')\n",
    "\n",
    "predictions = predict(test_data.drop(['target','user_id','date','account_number'], axis=1).to_numpy())"
   ]
  },
  {
   "cell_type": "code",
   "execution_count": 63,
   "metadata": {},
   "outputs": [],
   "source": [
    "predictions=predictions.reshape((-1,))"
   ]
  },
  {
   "cell_type": "markdown",
   "metadata": {},
   "source": [
    "### <span style=\"color:blue\">4.b) REAL TIME PREDICTIONS : API Gateway and Lambda"
   ]
  },
  {
   "cell_type": "markdown",
   "metadata": {},
   "source": [
    "\n",
    "<img src=\"https://d2908q01vomqb2.cloudfront.net/f1f836cb4ea6efb2a0b1b99f41ad8b103eff4b59/2018/07/18/sagemaker-endpoint-1.gif\" alt=\"MarineGEO circle logo\" style=\"height: 500; width:500;\"/>"
   ]
  },
  {
   "cell_type": "markdown",
   "metadata": {},
   "source": [
    "### <span style=\"color:blue\">4.c) Evaluation"
   ]
  },
  {
   "cell_type": "markdown",
   "metadata": {},
   "source": [
    "#### <span style=\"color:maroon\">  Confusion matrix"
   ]
  },
  {
   "cell_type": "code",
   "execution_count": 64,
   "metadata": {},
   "outputs": [
    {
     "data": {
      "text/html": [
       "<div>\n",
       "<style scoped>\n",
       "    .dataframe tbody tr th:only-of-type {\n",
       "        vertical-align: middle;\n",
       "    }\n",
       "\n",
       "    .dataframe tbody tr th {\n",
       "        vertical-align: top;\n",
       "    }\n",
       "\n",
       "    .dataframe thead th {\n",
       "        text-align: right;\n",
       "    }\n",
       "</style>\n",
       "<table border=\"1\" class=\"dataframe\">\n",
       "  <thead>\n",
       "    <tr style=\"text-align: right;\">\n",
       "      <th>predictions</th>\n",
       "      <th>0</th>\n",
       "      <th>1</th>\n",
       "    </tr>\n",
       "    <tr>\n",
       "      <th>actuals</th>\n",
       "      <th></th>\n",
       "      <th></th>\n",
       "    </tr>\n",
       "  </thead>\n",
       "  <tbody>\n",
       "    <tr>\n",
       "      <th>0</th>\n",
       "      <td>1487</td>\n",
       "      <td>7</td>\n",
       "    </tr>\n",
       "    <tr>\n",
       "      <th>1</th>\n",
       "      <td>1</td>\n",
       "      <td>441</td>\n",
       "    </tr>\n",
       "  </tbody>\n",
       "</table>\n",
       "</div>"
      ],
      "text/plain": [
       "predictions     0    1\n",
       "actuals               \n",
       "0            1487    7\n",
       "1               1  441"
      ]
     },
     "execution_count": 64,
     "metadata": {},
     "output_type": "execute_result"
    }
   ],
   "source": [
    "cm=pd.crosstab(index=test_data['target'], columns=np.where(predictions>0.5,1,0), rownames=['actuals'], colnames=['predictions'])\n",
    "\n",
    "cm"
   ]
  },
  {
   "cell_type": "markdown",
   "metadata": {},
   "source": [
    "#### <span style=\"color:maroon\">Area Under the (Receiver Operating Characteristic) Curve (AUC)"
   ]
  },
  {
   "cell_type": "code",
   "execution_count": 65,
   "metadata": {},
   "outputs": [
    {
     "data": {
      "text/plain": [
       "0.5"
      ]
     },
     "execution_count": 65,
     "metadata": {},
     "output_type": "execute_result"
    }
   ],
   "source": [
    "test_y = test_data.iloc[:,data.columns.get_loc(\"target\")].values;\n",
    "import sklearn\n",
    "from sklearn.metrics import roc_auc_score\n",
    "predictions=predictions.astype(int)\n",
    "test_y=test_y.astype(int)\n",
    "\n",
    "sklearn.metrics.roc_auc_score(test_y, predictions)"
   ]
  },
  {
   "cell_type": "markdown",
   "metadata": {},
   "source": [
    "#### <span style=\"color:maroon\">  Delete Endpoint"
   ]
  },
  {
   "cell_type": "code",
   "execution_count": 66,
   "metadata": {},
   "outputs": [],
   "source": [
    "xgb_predictor.delete_endpoint()"
   ]
  }
 ],
 "metadata": {
  "kernelspec": {
   "display_name": "conda_python3",
   "language": "python",
   "name": "conda_python3"
  },
  "language_info": {
   "codemirror_mode": {
    "name": "ipython",
    "version": 3
   },
   "file_extension": ".py",
   "mimetype": "text/x-python",
   "name": "python",
   "nbconvert_exporter": "python",
   "pygments_lexer": "ipython3",
   "version": "3.6.10"
  }
 },
 "nbformat": 4,
 "nbformat_minor": 4
}
